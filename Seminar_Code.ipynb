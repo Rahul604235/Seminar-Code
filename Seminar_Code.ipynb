{
  "cells": [
    {
      "cell_type": "code",
      "source": [
        "#Following libraries were imported.\n",
        "import numpy as np\n",
        "import pandas as pd\n",
        "import seaborn as sns\n",
        "import math\n",
        "\n",
        "from sklearn.metrics import confusion_matrix\n",
        "\n",
        "from PIL import Image as im\n",
        "from PIL import Image\n",
        "import PIL\n",
        "\n",
        "import torch\n",
        "import torch.nn as nn\n",
        "import torch.nn.functional as F\n",
        "from torch.utils.data import DataLoader , TensorDataset\n",
        "from torchvision import datasets, transforms\n",
        "from torchvision.utils import make_grid\n",
        "from scipy.fftpack import fft2\n",
        "from scipy.fftpack import fftshift\n",
        "\n",
        "from scipy.fftpack import fft2\n",
        "from scipy.fftpack import fftshift\n",
        "\n",
        "import cv2\n",
        "import matplotlib.pyplot as plt\n",
        "%matplotlib inline"
      ],
      "metadata": {
        "id": "Ai68nh2Or7v-"
      },
      "execution_count": 1,
      "outputs": []
    },
    {
      "cell_type": "code",
      "source": [
        "#Following code will generate the image of the wedge with different angle.\n",
        "def Object_wedge_Angle_fft(Alpha,Nx=500,Ny=500):\n",
        "  Wedge_grating = np.ones([Nx,Ny])\n",
        "  for i in range(Nx):\n",
        "    for j in range(Ny):\n",
        "      x0=Nx/2\n",
        "      y0=Ny/2\n",
        "      x=i-x0\n",
        "      y=j-y0\n",
        "      r=np.sqrt(x**2+y**2)\n",
        "      if x<0:\n",
        "        w_angle=-1*math.degrees(math.acos(y/r))\n",
        "      else:\n",
        "        w_angle=math.degrees(math.acos(y/r))\n",
        "\n",
        "      if r<(Nx/4) :\n",
        "          Wedge_grating[i,j]=0\n",
        "      else:\n",
        "        Wedge_grating[i,j]=1\n",
        "      \n",
        "      if w_angle<= Alpha and w_angle>=0:\n",
        "        Wedge_grating[i,j]=1\n",
        "\n",
        "  for i1 in range(Nx):\n",
        "    for j1 in range(Ny):\n",
        "      x0=Nx/2\n",
        "      y0=Ny/2\n",
        "      x=i1-x0\n",
        "      y=j1-y0\n",
        "      r=np.sqrt(x**2+y**2)\n",
        "      if r>(Nx//4-4) :\n",
        "          Wedge_grating[i1,j1]=0    \n",
        "\n",
        "  Wedge_grating=cv2.flip(Wedge_grating,0)\n",
        "  \n",
        "  return Wedge_grating\n"
      ],
      "metadata": {
        "id": "V79MwgYhsegH"
      },
      "execution_count": 2,
      "outputs": []
    },
    {
      "cell_type": "markdown",
      "source": [
        "# Wedge"
      ],
      "metadata": {
        "id": "EGcpri1oakdv"
      }
    },
    {
      "cell_type": "code",
      "source": [
        "#Dimension and length of screen and grating.\n",
        "\n",
        "#Grating size\n",
        "Nx=1500\n",
        "Ny=1500\n",
        "\n",
        "#Grating dimension in mm\n",
        "Lx = 10.0\n",
        "Ly = 10.0\n",
        "\n",
        "dx = Lx/Nx\n",
        "dy = Ly/Ny\n",
        "\n",
        "x = dx*(np.arange(Nx)-Nx//2)\n",
        "y = dy*(np.arange(Ny)-Ny//2)\n",
        "xx, yy = np.meshgrid(x, y)"
      ],
      "metadata": {
        "id": "evworzhqskge"
      },
      "execution_count": 362,
      "outputs": []
    },
    {
      "cell_type": "code",
      "source": [
        "# distance from slit to the screen (mm)\n",
        "z = 220\n",
        "\n",
        "# wavelength (mm)\n",
        "wavelength = 532*1e-6\n",
        "k = 2*np.pi/wavelength\n",
        "\n",
        "#This code is used to get the diifraction pattern from fft2 and fftshift\n",
        "\n",
        "fft_c = fft2(Object_wedge_Angle_fft(Alpha=26,Nx=1500,Ny=1500) * np.exp(1j * k/(2*z) *(xx**2 + yy**2)))\n",
        "c = fftshift(fft_c)\n",
        "abs_c = np.absolute(c)\n"
      ],
      "metadata": {
        "colab": {
          "base_uri": "https://localhost:8080/"
        },
        "id": "1spOMWLPs9Kg",
        "outputId": "49279592-0fbd-4d78-e3d3-e8e09721ac3c"
      },
      "execution_count": 397,
      "outputs": [
        {
          "output_type": "stream",
          "name": "stderr",
          "text": [
            "/usr/local/lib/python3.7/dist-packages/ipykernel_launcher.py:14: RuntimeWarning: invalid value encountered in double_scalars\n",
            "  \n"
          ]
        }
      ]
    },
    {
      "cell_type": "code",
      "source": [
        "#Diffraction Pattern\n",
        "plt.figure(figsize=(10,6))\n",
        "plt.imshow(abs_c ,cmap ='YlGn')\n",
        "plt.colorbar()\n",
        "plt. axis('off')"
      ],
      "metadata": {
        "colab": {
          "base_uri": "https://localhost:8080/",
          "height": 374
        },
        "id": "3dUlUjkns-Jo",
        "outputId": "0bfcb081-ee5e-4e20-9cc3-01eb5cae4737"
      },
      "execution_count": 398,
      "outputs": [
        {
          "output_type": "execute_result",
          "data": {
            "text/plain": [
              "(-0.5, 1499.5, 1499.5, -0.5)"
            ]
          },
          "metadata": {},
          "execution_count": 398
        },
        {
          "output_type": "display_data",
          "data": {
            "text/plain": [
              "<Figure size 720x432 with 2 Axes>"
            ],
            "image/png": "[encoded data removed]"
          },
          "metadata": {
            "needs_background": "light"
          }
        }
      ]
    },
    {
      "cell_type": "markdown",
      "source": [
        "#Dataset Generation and Data Augmentation"
      ],
      "metadata": {
        "id": "l2onWCG5J_KC"
      }
    },
    {
      "cell_type": "code",
      "source": [
        "Wedge_Angle=np.array([2*np.pi/i for i in range(2,16)])"
      ],
      "metadata": {
        "id": "_LaVRcLpon5Z"
      },
      "execution_count": 360,
      "outputs": []
    },
    {
      "cell_type": "code",
      "source": [
        "#This code is used to generate the final image for training for the Neural Net.\n",
        "Diffraction_pattern_dict={}\n",
        "One_hot_representation=[]\n",
        "for i in range(len(Wedge_Angle)):\n",
        "  one_hot_vector=list(np.zeros(len(Wedge_Angle)))\n",
        "  one_hot_vector[i]=1\n",
        "  One_hot_representation.append(one_hot_vector)\n",
        "  wi=Object_wedge_Angle_fft(Alpha=np.degrees(Wedge_Angle[i]),Nx=1500,Ny=1500)\n",
        "  fft_c = fft2( wi* np.exp(1j * k/(2*z) *(xx**2 + yy**2)))\n",
        "  c = fftshift(fft_c)\n",
        "  diffraction_pattern=np.absolute(c)\n",
        "  norm_img = np.zeros(diffraction_pattern.shape)\n",
        "  final_img =cv2.normalize(diffraction_pattern,norm_img, 0,255,cv2.NORM_MINMAX)\n",
        "  final_img= final_img.astype(np.uint8)\n",
        "  \n",
        "  #Image size resize to (60,60)\n",
        "  resized = cv2.resize(final_img, (60,60), interpolation=cv2.INTER_AREA)\n",
        "  Diffraction_pattern_dict.update({str(i):resized})"
      ],
      "metadata": {
        "colab": {
          "base_uri": "https://localhost:8080/"
        },
        "id": "vdcyqGLfK5Bb",
        "outputId": "bb29d91a-2c5e-4fa9-99f4-419c6dd3643c"
      },
      "execution_count": 363,
      "outputs": [
        {
          "output_type": "stream",
          "name": "stderr",
          "text": [
            "/usr/local/lib/python3.7/dist-packages/ipykernel_launcher.py:14: RuntimeWarning: invalid value encountered in double_scalars\n",
            "  \n"
          ]
        }
      ]
    },
    {
      "cell_type": "markdown",
      "source": [
        "## Data Augmentation"
      ],
      "metadata": {
        "id": "lC5z1pHfMZCB"
      }
    },
    {
      "cell_type": "markdown",
      "source": [
        "### Training Dataset"
      ],
      "metadata": {
        "id": "2TvVPZhQWlNp"
      }
    },
    {
      "cell_type": "code",
      "source": [
        "#Below code is used to generate the dataset for training the neural network.\n",
        "Train_tensor=np.zeros([(len(Wedge_Angle))*401,1,60,60])\n",
        "Augmentation_value1=np.linspace(1,3,100)\n",
        "Augmentation_value2=np.linspace(0.1,0.5,100)\n",
        "count=0\n",
        "for i in range(len(Wedge_Angle)):\n",
        "  Train_tensor[count]=Diffraction_pattern_dict[str(i)]\n",
        "  count+=1\n",
        "\n",
        "##DATA SET generation of brightness.\n",
        "for i in range(len(Wedge_Angle)):\n",
        "  data = Diffraction_pattern_dict[str(i)]\n",
        "  PIL_image = Image.fromarray(data)\n",
        "  for j in range(100):\n",
        "\n",
        "    loader_transform = transforms.ColorJitter(brightness=Augmentation_value1[j])\n",
        "    imageb=loader_transform(PIL_image)\n",
        "    imageb_array=np.asarray(imageb)\n",
        "    Train_tensor[count]=imageb_array\n",
        "\n",
        "    one_hot_vector=list(np.zeros(len(Wedge_Angle)))\n",
        "    one_hot_vector[i]=1\n",
        "    One_hot_representation.append(one_hot_vector)\n",
        "\n",
        "    count+=1\n",
        "\n",
        "##DATA SET generation of contrast.\n",
        "for i in range(len(Wedge_Angle)):\n",
        "  data = Diffraction_pattern_dict[str(i)]\n",
        "  PIL_image = Image.fromarray(data)\n",
        "  for j in range(100):\n",
        "\n",
        "    loader_transform = transforms.ColorJitter(contrast=Augmentation_value1[j])\n",
        "    imageb=loader_transform(PIL_image)\n",
        "    imageb_array=np.asarray(imageb)\n",
        "    Train_tensor[count]=imageb_array\n",
        "\n",
        "    one_hot_vector=list(np.zeros(len(Wedge_Angle)))\n",
        "    one_hot_vector[i]=1\n",
        "    One_hot_representation.append(one_hot_vector)\n",
        "\n",
        "    count+=1\n",
        "\n",
        "##DATA SET generation of saturation.\n",
        "for i in range(len(Wedge_Angle)):\n",
        "  data = Diffraction_pattern_dict[str(i)]\n",
        "  PIL_image = Image.fromarray(data)\n",
        "  for j in range(100):\n",
        "\n",
        "    loader_transform = transforms.ColorJitter(saturation=Augmentation_value1[j])\n",
        "    imageb=loader_transform(PIL_image)\n",
        "    imageb_array=np.asarray(imageb)\n",
        "    Train_tensor[count]=imageb_array\n",
        "\n",
        "    one_hot_vector=list(np.zeros(len(Wedge_Angle)))\n",
        "    one_hot_vector[i]=1\n",
        "    One_hot_representation.append(one_hot_vector)\n",
        "\n",
        "    count+=1\n",
        "\n",
        "##DATA SET generation of hue.\n",
        "for i in range(len(Wedge_Angle)):\n",
        "  data = Diffraction_pattern_dict[str(i)]\n",
        "  PIL_image = Image.fromarray(data)\n",
        "  for j in range(100):\n",
        "\n",
        "    loader_transform = transforms.ColorJitter(hue=Augmentation_value2[j])\n",
        "    imageb=loader_transform(PIL_image)\n",
        "    imageb_array=np.asarray(imageb)\n",
        "    Train_tensor[count]=imageb_array\n",
        "\n",
        "    one_hot_vector=list(np.zeros(len(Wedge_Angle)))\n",
        "    one_hot_vector[i]=1\n",
        "    One_hot_representation.append(one_hot_vector)\n",
        "\n",
        "    count+=1\n",
        "\n",
        "One_hot_representation=np.array(One_hot_representation)\n",
        "\n",
        "train_dataset={'image':Train_tensor,'label':One_hot_representation}"
      ],
      "metadata": {
        "id": "9MWddyy6WiAY"
      },
      "execution_count": null,
      "outputs": []
    },
    {
      "cell_type": "markdown",
      "source": [
        "#validation dataset"
      ],
      "metadata": {
        "id": "VmCVv48QEvVG"
      }
    },
    {
      "cell_type": "code",
      "source": [
        "#This code is used to generate the final image for validation the neral network in dictionary.\n",
        "Diffraction_pattern_dict={}\n",
        "One_hot_representation=[]\n",
        "for i in range(len(Wedge_Angle)):\n",
        "  one_hot_vector=list(np.zeros(len(Wedge_Angle)))\n",
        "  one_hot_vector[i]=1\n",
        "  One_hot_representation.append(one_hot_vector)\n",
        "  fft_c = fft2(Object_wedge_Angle_fft(Alpha=np.degrees(Wedge_Angle[i]),Nx=1500,Ny=1500) * np.exp(1j * k/(2*z) *(xx**2 + yy**2)))\n",
        "  c = fftshift(fft_c)\n",
        "  diffraction_pattern=np.absolute(c)\n",
        "  norm_img = np.zeros(diffraction_pattern.shape)\n",
        "  final_img = cv2.normalize(diffraction_pattern,  norm_img, 0, 255, cv2.NORM_MINMAX)\n",
        "  final_img= final_img.astype(np.uint8)\n",
        "  \n",
        "  #Image size resize to (60,60)\n",
        "  resized = cv2.resize(final_img, (60,60), interpolation=cv2.INTER_AREA)\n",
        "  Diffraction_pattern_dict.update({str(i):resized})\n",
        "\n",
        "#Below code is used to generate the dataset for validation the neural network.\n",
        "val_tensor=np.zeros([(len(Wedge_Angle))*161,1,60,60])\n",
        "Augmentation_value1=np.linspace(1,3,40)\n",
        "Augmentation_value2=np.linspace(0.1,0.5,40)\n",
        "count=0\n",
        "for i in range(len(Wedge_Angle)):\n",
        "  val_tensor[count]=Diffraction_pattern_dict[str(i)]\n",
        "  count+=1\n",
        "\n",
        "##DATA SET generation of brightness.\n",
        "for i in range(len(Wedge_Angle)):\n",
        "  data = Diffraction_pattern_dict[str(i)]\n",
        "  PIL_image = Image.fromarray(data)\n",
        "  for j in range(40):\n",
        "\n",
        "    loader_transform = transforms.ColorJitter(brightness=Augmentation_value1[j])\n",
        "    imageb=loader_transform(PIL_image)\n",
        "    imageb_array=np.asarray(imageb)\n",
        "    val_tensor[count]=imageb_array\n",
        "\n",
        "    one_hot_vector=list(np.zeros(len(Wedge_Angle)))\n",
        "    one_hot_vector[i]=1\n",
        "    One_hot_representation.append(one_hot_vector)\n",
        "\n",
        "    count+=1\n",
        "\n",
        "##DATA SET generation of contrast.\n",
        "for i in range(len(Wedge_Angle)):\n",
        "  data = Diffraction_pattern_dict[str(i)]\n",
        "  PIL_image = Image.fromarray(data)\n",
        "  for j in range(40):\n",
        "\n",
        "    loader_transform = transforms.ColorJitter(contrast=Augmentation_value1[j])\n",
        "    imageb=loader_transform(PIL_image)\n",
        "    imageb_array=np.asarray(imageb)\n",
        "    val_tensor[count]=imageb_array\n",
        "\n",
        "    one_hot_vector=list(np.zeros(len(Wedge_Angle)))\n",
        "    one_hot_vector[i]=1\n",
        "    One_hot_representation.append(one_hot_vector)\n",
        "\n",
        "    count+=1\n",
        "\n",
        "##DATA SET generation of saturation.\n",
        "for i in range(len(Wedge_Angle)):\n",
        "  data = Diffraction_pattern_dict[str(i)]\n",
        "  PIL_image = Image.fromarray(data)\n",
        "  for j in range(40):\n",
        "\n",
        "    loader_transform = transforms.ColorJitter(saturation=Augmentation_value1[j])\n",
        "    imageb=loader_transform(PIL_image)\n",
        "    imageb_array=np.asarray(imageb)\n",
        "    val_tensor[count]=imageb_array\n",
        "\n",
        "    one_hot_vector=list(np.zeros(len(Wedge_Angle)))\n",
        "    one_hot_vector[i]=1\n",
        "    One_hot_representation.append(one_hot_vector)\n",
        "\n",
        "    count+=1\n",
        "\n",
        "##DATA SET generation of hue.\n",
        "for i in range(len(Wedge_Angle)):\n",
        "  data = Diffraction_pattern_dict[str(i)]\n",
        "  PIL_image = Image.fromarray(data)\n",
        "  for j in range(40):\n",
        "\n",
        "    loader_transform = transforms.ColorJitter(hue=Augmentation_value2[j])\n",
        "    imageb=loader_transform(PIL_image)\n",
        "    imageb_array=np.asarray(imageb)\n",
        "    val_tensor[count]=imageb_array\n",
        "\n",
        "    one_hot_vector=list(np.zeros(len(Wedge_Angle)))\n",
        "    one_hot_vector[i]=1\n",
        "    One_hot_representation.append(one_hot_vector)\n",
        "\n",
        "    count+=1\n",
        "\n",
        "One_hot_representation=np.array(One_hot_representation)\n",
        "\n",
        "val_dataset={'image':val_tensor,'label':One_hot_representation}"
      ],
      "metadata": {
        "colab": {
          "base_uri": "https://localhost:8080/"
        },
        "id": "xSE3Y0AnEai5",
        "outputId": "59a51e02-cb3f-46fe-e4da-770cacabe7cc"
      },
      "execution_count": null,
      "outputs": [
        {
          "output_type": "stream",
          "name": "stderr",
          "text": [
            "/usr/local/lib/python3.7/dist-packages/ipykernel_launcher.py:14: RuntimeWarning: invalid value encountered in double_scalars\n",
            "  \n"
          ]
        }
      ]
    },
    {
      "cell_type": "markdown",
      "source": [
        "#Testing_dataset"
      ],
      "metadata": {
        "id": "8XHmBiW9FsBw"
      }
    },
    {
      "cell_type": "code",
      "source": [
        "#This code is used to generate the final image for testing the neral network in dictionary.\n",
        "Diffraction_pattern_dict={}\n",
        "One_hot_representation=[]\n",
        "for i in range(len(Wedge_Angle)):\n",
        "  one_hot_vector=list(np.zeros(len(Wedge_Angle)))\n",
        "  one_hot_vector[i]=1\n",
        "  One_hot_representation.append(one_hot_vector)\n",
        "  fft_c = fft2(Object_wedge_Angle_fft(Alpha=np.degrees(Wedge_Angle[i]),Nx=1500,Ny=1500) * np.exp(1j * k/(2*z) *(xx**2 + yy**2)))\n",
        "  c = fftshift(fft_c)\n",
        "  diffraction_pattern=np.absolute(c)  \n",
        "  norm_img = np.zeros(diffraction_pattern.shape)\n",
        "  final_img = cv2.normalize(diffraction_pattern,  norm_img, 0, 255, cv2.NORM_MINMAX)\n",
        "  final_img= final_img.astype(np.uint8)\n",
        "\n",
        "  resized = cv2.resize(final_img, (60,60), interpolation=cv2.INTER_AREA)\n",
        "  Diffraction_pattern_dict.update({str(i):resized})\n",
        "\n",
        "test_tensor=np.zeros([(len(Wedge_Angle))*161,1,60,60])\n",
        "Augmentation_value1=np.linspace(1,3,40)\n",
        "Augmentation_value2=np.linspace(0.1,0.5,40)\n",
        "count=0\n",
        "for i in range(len(Wedge_Angle)):\n",
        "  test_tensor[count]=Diffraction_pattern_dict[str(i)]\n",
        "  count+=1\n",
        "\n",
        "##DATA SET generation of brightness.\n",
        "for i in range(len(Wedge_Angle)):\n",
        "  data = Diffraction_pattern_dict[str(i)]\n",
        "  PIL_image = Image.fromarray(data)\n",
        "  for j in range(40):\n",
        "\n",
        "    loader_transform = transforms.ColorJitter(brightness=Augmentation_value1[j])\n",
        "    imageb=loader_transform(PIL_image)\n",
        "    imageb_array=np.asarray(imageb)\n",
        "    test_tensor[count]=imageb_array\n",
        "\n",
        "    one_hot_vector=list(np.zeros(len(Wedge_Angle)))\n",
        "    one_hot_vector[i]=1\n",
        "    One_hot_representation.append(one_hot_vector)\n",
        "\n",
        "    count+=1\n",
        "\n",
        "##DATA SET generation of contrast.\n",
        "for i in range(len(Wedge_Angle)):\n",
        "  data = Diffraction_pattern_dict[str(i)]\n",
        "  PIL_image = Image.fromarray(data)\n",
        "  for j in range(40):\n",
        "\n",
        "    loader_transform = transforms.ColorJitter(contrast=Augmentation_value1[j])\n",
        "    imageb=loader_transform(PIL_image)\n",
        "    imageb_array=np.asarray(imageb)\n",
        "    test_tensor[count]=imageb_array\n",
        "\n",
        "    one_hot_vector=list(np.zeros(len(Wedge_Angle)))\n",
        "    one_hot_vector[i]=1\n",
        "    One_hot_representation.append(one_hot_vector)\n",
        "\n",
        "    count+=1\n",
        "\n",
        "##DATA SET generation of saturation.\n",
        "for i in range(len(Wedge_Angle)):\n",
        "  data = Diffraction_pattern_dict[str(i)]\n",
        "  PIL_image = Image.fromarray(data)\n",
        "  for j in range(40):\n",
        "\n",
        "    loader_transform = transforms.ColorJitter(saturation=Augmentation_value1[j])\n",
        "    imageb=loader_transform(PIL_image)\n",
        "    imageb_array=np.asarray(imageb)\n",
        "    test_tensor[count]=imageb_array\n",
        "\n",
        "    one_hot_vector=list(np.zeros(len(Wedge_Angle)))\n",
        "    one_hot_vector[i]=1\n",
        "    One_hot_representation.append(one_hot_vector)\n",
        "\n",
        "    count+=1\n",
        "\n",
        "##DATA SET generation of hue.\n",
        "for i in range(len(Wedge_Angle)):\n",
        "  data = Diffraction_pattern_dict[str(i)]\n",
        "  PIL_image = Image.fromarray(data)\n",
        "  for j in range(40):\n",
        "\n",
        "    loader_transform = transforms.ColorJitter(hue=Augmentation_value2[j])\n",
        "    imageb=loader_transform(PIL_image)\n",
        "    imageb_array=np.asarray(imageb)\n",
        "    test_tensor[count]=imageb_array\n",
        "\n",
        "    one_hot_vector=list(np.zeros(len(Wedge_Angle)))\n",
        "    one_hot_vector[i]=1\n",
        "    One_hot_representation.append(one_hot_vector)\n",
        "\n",
        "    count+=1\n",
        "\n",
        "One_hot_representation=np.array(One_hot_representation)\n",
        "\n",
        "test_dataset={'image':test_tensor,'label':One_hot_representation}"
      ],
      "metadata": {
        "colab": {
          "base_uri": "https://localhost:8080/"
        },
        "id": "SBbAV9a8WYkD",
        "outputId": "d0f26f18-2aeb-46d8-ee5d-58dd7575632a"
      },
      "execution_count": null,
      "outputs": [
        {
          "output_type": "stream",
          "name": "stderr",
          "text": [
            "/usr/local/lib/python3.7/dist-packages/ipykernel_launcher.py:14: RuntimeWarning: invalid value encountered in double_scalars\n",
            "  \n"
          ]
        }
      ]
    },
    {
      "cell_type": "markdown",
      "source": [
        "# Data Loader"
      ],
      "metadata": {
        "id": "qjIqoFvqTYir"
      }
    },
    {
      "cell_type": "code",
      "source": [
        "train_d=TensorDataset(torch.tensor(train_dataset['image'],dtype=torch.float), torch.tensor(train_dataset['label'],dtype=torch.float))\n",
        "train_loader = DataLoader(train_d, batch_size=32, shuffle=True)\n",
        "\n",
        "val_d=TensorDataset(torch.tensor(val_dataset['image'],dtype=torch.float), torch.tensor(val_dataset['label'],dtype=torch.float))\n",
        "val_loader = DataLoader(val_d, batch_size=32, shuffle=True)\n",
        "\n",
        "test_d=TensorDataset(torch.tensor(test_dataset['image'],dtype=torch.float), torch.tensor(test_dataset['label'],dtype=torch.float))\n",
        "test_loader = DataLoader(test_d, batch_size=32, shuffle=False)"
      ],
      "metadata": {
        "id": "TKDZkhGqTcwP"
      },
      "execution_count": null,
      "outputs": []
    },
    {
      "cell_type": "markdown",
      "source": [
        "#CNN Code"
      ],
      "metadata": {
        "id": "m4iMPCrPhcEY"
      }
    },
    {
      "cell_type": "code",
      "source": [
        "class ConvolutionalNetwork(nn.Module):\n",
        "    def __init__(self):\n",
        "        super().__init__()\n",
        "        self.conv1 = nn.Conv2d(in_channels=1, out_channels= 3, kernel_size= 3, stride=1, padding=1 )\n",
        "        self.conv2 = nn.Conv2d(in_channels=3, out_channels= 3, kernel_size= 3, stride=1, padding=1 )\n",
        "        self.conv3 = nn.Conv2d(in_channels=3, out_channels= 3, kernel_size= 3, stride=1, padding=1 )\n",
        "        self.max1=nn.MaxPool2d(kernel_size=2, stride=1)\n",
        "        self.max2=nn.MaxPool2d(kernel_size=2, stride=1)\n",
        "        self.max3=nn.MaxPool2d(kernel_size=2, stride=1)\n",
        "        self.fc1 = nn.Linear(3*57*57, 360)\n",
        "        self.fc2 = nn.Linear(360, 120)\n",
        "        self.fc3 = nn.Linear(120,14)\n",
        "\n",
        "    def forward(self, X):\n",
        "        X = F.relu(self.conv1(X))\n",
        "        X = self.max1(X)\n",
        "        X = F.relu(self.conv2(X))\n",
        "        X = self.max2(X)\n",
        "        X = F.relu(self.conv3(X))\n",
        "        X = self.max3(X)\n",
        "\n",
        "        X = X.view(-1, 3*57*57)\n",
        "        X = F.relu(self.fc1(X))\n",
        "        X = F.relu(self.fc2(X))\n",
        "        X = self.fc3(X)\n",
        "        return X\n",
        "\n",
        "CNN=ConvolutionalNetwork()\n",
        "CNN=CNN.cuda()"
      ],
      "metadata": {
        "id": "exHI9QhEbIlZ"
      },
      "execution_count": null,
      "outputs": []
    },
    {
      "cell_type": "code",
      "source": [
        "CNN"
      ],
      "metadata": {
        "colab": {
          "base_uri": "https://localhost:8080/"
        },
        "id": "p4c7IvcbbIqs",
        "outputId": "5326ad54-65c7-44e0-bb71-371b3bab2f8c"
      },
      "execution_count": null,
      "outputs": [
        {
          "output_type": "execute_result",
          "data": {
            "text/plain": [
              "ConvolutionalNetwork(\n",
              "  (conv1): Conv2d(1, 3, kernel_size=(3, 3), stride=(1, 1), padding=(1, 1))\n",
              "  (conv2): Conv2d(3, 3, kernel_size=(3, 3), stride=(1, 1), padding=(1, 1))\n",
              "  (conv3): Conv2d(3, 3, kernel_size=(3, 3), stride=(1, 1), padding=(1, 1))\n",
              "  (max1): MaxPool2d(kernel_size=2, stride=1, padding=0, dilation=1, ceil_mode=False)\n",
              "  (max2): MaxPool2d(kernel_size=2, stride=1, padding=0, dilation=1, ceil_mode=False)\n",
              "  (max3): MaxPool2d(kernel_size=2, stride=1, padding=0, dilation=1, ceil_mode=False)\n",
              "  (fc1): Linear(in_features=9747, out_features=360, bias=True)\n",
              "  (fc2): Linear(in_features=360, out_features=120, bias=True)\n",
              "  (fc3): Linear(in_features=120, out_features=14, bias=True)\n",
              ")"
            ]
          },
          "metadata": {},
          "execution_count": 123
        }
      ]
    },
    {
      "cell_type": "code",
      "source": [
        "#parameters are\n",
        "params = np.sum([p.numel() for p in CNN.parameters()])\n",
        "print(params)"
      ],
      "metadata": {
        "colab": {
          "base_uri": "https://localhost:8080/"
        },
        "id": "kD9L2sGAZOb2",
        "outputId": "54737432-17e3-4df8-fb0b-8bad26f09708"
      },
      "execution_count": null,
      "outputs": [
        {
          "output_type": "stream",
          "name": "stdout",
          "text": [
            "3554492\n"
          ]
        }
      ]
    },
    {
      "cell_type": "code",
      "source": [
        "criterion = nn.CrossEntropyLoss()\n",
        "optimizer = torch.optim.Adam(CNN.parameters(), lr=0.001)"
      ],
      "metadata": {
        "id": "ws6Q0YNAaX_O"
      },
      "execution_count": null,
      "outputs": []
    },
    {
      "cell_type": "code",
      "source": [
        "import time\n",
        "start_time = time.time()\n",
        "\n",
        "epochs = 20\n",
        "ep=0\n",
        "train_losses = []\n",
        "val_losses = []\n",
        "train_correct = []\n",
        "val_correct = []\n",
        "print('Training of Neural Network started.... \\n')\n",
        "\n",
        "for i in range(epochs):\n",
        "    ep+=1\n",
        "    trn_corr = 0\n",
        "    val_corr = 0\n",
        "    \n",
        "    Train_total=0\n",
        "    Train_loss=0\n",
        "    val_total=0\n",
        "    val_loss=0\n",
        "\n",
        "    for b, (X_train, y_train) in enumerate(train_loader):\n",
        "      Train_total+=y_train.shape[0]\n",
        "      X_train= X_train.cuda()\n",
        "      y_train=y_train.cuda()\n",
        "\n",
        "      y_pred=CNN(X_train)\n",
        "      loss = criterion(y_pred, y_train)\n",
        "      Train_loss+=loss.item()\n",
        "\n",
        "      prediction=torch.max(y_pred.data,1)[1]\n",
        "      original=torch.max(y_train.data,1)[1]\n",
        "      batch_corr = (prediction==original).sum()\n",
        "      trn_corr += batch_corr.item()\n",
        "\n",
        "      optimizer.zero_grad()\n",
        "      loss.backward()\n",
        "      optimizer.step()\n",
        "\n",
        "    print(\"Training data \\n  epochs = {} : Loss = {} : accuracy : {} \\n \".format(ep,Train_loss,trn_corr*100/Train_total))\n",
        "    train_losses.append(Train_loss)\n",
        "    train_correct.append(trn_corr*100/Train_total)\n",
        "\n",
        "    with torch.no_grad():\n",
        "      for b, (X_val, y_val) in enumerate(val_loader):\n",
        "        val_total+=y_val.shape[0]\n",
        "        X_val=X_val.cuda()\n",
        "        y_val=y_val.cuda()\n",
        "\n",
        "        y_pred_val = CNN(X_val)\n",
        "        loss = criterion(y_pred_val, y_val)\n",
        "        val_loss+=loss.item()\n",
        "\n",
        "        prediction=torch.max(y_pred_val.data,1)[1]\n",
        "        original=torch.max(y_val.data,1)[1]\n",
        "        val_corr += ((prediction==original).sum()).item()\n",
        "      \n",
        "      print(\"validation data \\n epochs = {} : Loss = {} : accuracy : {} \\n \".format(ep,val_loss,val_corr*100/val_total))\n",
        "      val_losses.append(val_loss)\n",
        "      val_correct.append(val_corr*100/val_total)\n",
        "\n",
        "print('Finished Training......')\n"
      ],
      "metadata": {
        "colab": {
          "base_uri": "https://localhost:8080/"
        },
        "id": "3pfIsXPyK5ET",
        "outputId": "aa1b9b54-ab24-4b9a-aaac-f70fe17efa12"
      },
      "execution_count": null,
      "outputs": [
        {
          "output_type": "stream",
          "name": "stdout",
          "text": [
            "Training of Neural Network started.... \n",
            "\n",
            "Training data \n",
            "  epochs = 1 : Loss = 146.11495085060596 : accuracy : 72.78232988956181 \n",
            " \n",
            "validation data \n",
            " epochs = 1 : Loss = 18.022940136492252 : accuracy : 92.99023957409051 \n",
            " \n",
            "Training data \n",
            "  epochs = 2 : Loss = 21.14508945820853 : accuracy : 96.86498040612754 \n",
            " \n",
            "validation data \n",
            " epochs = 2 : Loss = 3.7357680366840214 : accuracy : 98.75776397515529 \n",
            " \n",
            "Training data \n",
            "  epochs = 3 : Loss = 16.07263816986233 : accuracy : 98.11186319914499 \n",
            " \n",
            "validation data \n",
            " epochs = 3 : Loss = 7.3340349439531565 : accuracy : 96.6282165039929 \n",
            " \n",
            "Training data \n",
            "  epochs = 4 : Loss = 7.153688495774986 : accuracy : 99.07374421090132 \n",
            " \n",
            "validation data \n",
            " epochs = 4 : Loss = 2.1253171845237375 : accuracy : 99.24578527063 \n",
            " \n",
            "Training data \n",
            "  epochs = 5 : Loss = 9.80028948421159 : accuracy : 98.34342714641967 \n",
            " \n",
            "validation data \n",
            " epochs = 5 : Loss = 1.62643988574564 : accuracy : 99.42324755989353 \n",
            " \n",
            "Training data \n",
            "  epochs = 6 : Loss = 20.01720568260953 : accuracy : 97.32810830067687 \n",
            " \n",
            "validation data \n",
            " epochs = 6 : Loss = 7.519772544503212 : accuracy : 96.8944099378882 \n",
            " \n",
            "Training data \n",
            "  epochs = 7 : Loss = 5.585172329963825 : accuracy : 99.09155682223015 \n",
            " \n",
            "validation data \n",
            " epochs = 7 : Loss = 1.655459572953987 : accuracy : 99.02395740905058 \n",
            " \n",
            "Training data \n",
            "  epochs = 8 : Loss = 2.5564477741548615 : accuracy : 99.60812255076594 \n",
            " \n",
            "validation data \n",
            " epochs = 8 : Loss = 1.5670640240988973 : accuracy : 99.55634427684117 \n",
            " \n",
            "Training data \n",
            "  epochs = 9 : Loss = 2.0236156184902825 : accuracy : 99.73281083006769 \n",
            " \n",
            "validation data \n",
            " epochs = 9 : Loss = 0.9482269906725378 : accuracy : 99.64507542147294 \n",
            " \n",
            "Training data \n",
            "  epochs = 10 : Loss = 3.7711404442732643 : accuracy : 99.35874599216245 \n",
            " \n",
            "validation data \n",
            " epochs = 10 : Loss = 1.8266139476327226 : accuracy : 99.11268855368235 \n",
            " \n",
            "Training data \n",
            "  epochs = 11 : Loss = 5.922538682095137 : accuracy : 99.25187032418953 \n",
            " \n",
            "validation data \n",
            " epochs = 11 : Loss = 2.99322410474997 : accuracy : 99.02395740905058 \n",
            " \n",
            "Training data \n",
            "  epochs = 12 : Loss = 3.7350006077417106 : accuracy : 99.41218382614892 \n",
            " \n",
            "validation data \n",
            " epochs = 12 : Loss = 1.2314877265380346 : accuracy : 99.64507542147294 \n",
            " \n",
            "Training data \n",
            "  epochs = 13 : Loss = 8.864632128700052 : accuracy : 99.0559315995725 \n",
            " \n",
            "validation data \n",
            " epochs = 13 : Loss = 1.5296802493121504 : accuracy : 99.51197870452529 \n",
            " \n",
            "Training data \n",
            "  epochs = 14 : Loss = 2.182567892874715 : accuracy : 99.62593516209476 \n",
            " \n",
            "validation data \n",
            " epochs = 14 : Loss = 1.0424848277427827 : accuracy : 99.60070984915706 \n",
            " \n",
            "Training data \n",
            "  epochs = 15 : Loss = 4.36906643595259 : accuracy : 99.32312076950481 \n",
            " \n",
            "validation data \n",
            " epochs = 15 : Loss = 1.7139438545927987 : accuracy : 98.93522626441882 \n",
            " \n",
            "Training data \n",
            "  epochs = 16 : Loss = 1.7268638688734441 : accuracy : 99.69718560741005 \n",
            " \n",
            "validation data \n",
            " epochs = 16 : Loss = 0.9294048247448927 : accuracy : 99.7338065661047 \n",
            " \n",
            "Training data \n",
            "  epochs = 17 : Loss = 1.2206196567912415 : accuracy : 99.80406127538298 \n",
            " \n",
            "validation data \n",
            " epochs = 17 : Loss = 1.1565344694964201 : accuracy : 99.68944099378882 \n",
            " \n",
            "Training data \n",
            "  epochs = 18 : Loss = 1.0548628930087385 : accuracy : 99.85749910936943 \n",
            " \n",
            "validation data \n",
            " epochs = 18 : Loss = 1.3198296611750386 : accuracy : 99.51197870452529 \n",
            " \n",
            "Training data \n",
            "  epochs = 19 : Loss = 0.9714399485571414 : accuracy : 99.85749910936943 \n",
            " \n",
            "validation data \n",
            " epochs = 19 : Loss = 1.1180782422084252 : accuracy : 99.55634427684117 \n",
            " \n",
            "Training data \n",
            "  epochs = 20 : Loss = 0.80001608601507 : accuracy : 99.85749910936943 \n",
            " \n",
            "validation data \n",
            " epochs = 20 : Loss = 0.8869208553741683 : accuracy : 99.7338065661047 \n",
            " \n",
            "Finished Training......\n"
          ]
        }
      ]
    },
    {
      "cell_type": "code",
      "source": [
        "plt.plot(train_losses,marker=\"o\", label='training loss')\n",
        "plt.plot(val_losses,marker=\"o\", label='validation loss')\n",
        "plt.title('Loss at the end of each epoch')\n",
        "plt.xlabel('epochs')\n",
        "plt.ylabel('loss')\n",
        "plt.grid()\n",
        "plt.legend()\n",
        "plt.show()"
      ],
      "metadata": {
        "id": "rejD7_NhaYKd",
        "colab": {
          "base_uri": "https://localhost:8080/",
          "height": 295
        },
        "outputId": "defa8571-a38a-4204-cc04-d9cb15005a9f"
      },
      "execution_count": null,
      "outputs": [
        {
          "output_type": "display_data",
          "data": {
            "text/plain": [
              "<Figure size 432x288 with 1 Axes>"
            ],
            "image/png": "[encoded data removed]"
          },
          "metadata": {
            "needs_background": "light"
          }
        }
      ]
    },
    {
      "cell_type": "code",
      "source": [
        "plt.plot(train_correct,marker=\"o\", label='training loss')\n",
        "plt.plot(val_correct,marker=\"o\", label='validation loss')\n",
        "plt.title('Accuracy at the end of each epoch')\n",
        "plt.xlabel('epochs')\n",
        "plt.ylabel('Accuracy')\n",
        "plt.grid()\n",
        "plt.legend()\n",
        "plt.show()"
      ],
      "metadata": {
        "colab": {
          "base_uri": "https://localhost:8080/",
          "height": 295
        },
        "id": "ZdXNtaZJeplS",
        "outputId": "5c7cef52-df32-44b9-fe86-5dcb17605427"
      },
      "execution_count": null,
      "outputs": [
        {
          "output_type": "display_data",
          "data": {
            "text/plain": [
              "<Figure size 432x288 with 1 Axes>"
            ],
            "image/png": "[encoded data removed]"
          },
          "metadata": {
            "needs_background": "light"
          }
        }
      ]
    },
    {
      "cell_type": "markdown",
      "source": [
        "# Accuracy on Testing dataset"
      ],
      "metadata": {
        "id": "XJpCbm_tjs3D"
      }
    },
    {
      "cell_type": "code",
      "source": [
        "#This code is used to find accuracy on test data.\n",
        "test_corr=0\n",
        "test_total=0\n",
        "\n",
        "y_test_cnn=[]\n",
        "y_pred_cnn=[]\n",
        "with torch.no_grad():\n",
        "  for b, (X_test, y_test) in enumerate(test_loader):\n",
        "    test_total+=y_test.shape[0]\n",
        "    X_test=X_test.cuda()\n",
        "    y_test=y_test.cuda()\n",
        "\n",
        "    y_pred_test = CNN(X_test)\n",
        "    \n",
        "    for i in list(torch.Tensor.cpu(torch.max(y_pred_test.data,1)[1]).detach().numpy()):\n",
        "      y_pred_cnn.append(i)\n",
        "    \n",
        "    for j in list(torch.Tensor.cpu(torch.max(y_test.data,1)[1]).detach().numpy()):\n",
        "      y_test_cnn.append(j)\n",
        "\n",
        "    prediction=torch.max(y_pred_test.data,1)[1]\n",
        "    original=torch.max(y_test.data,1)[1]\n",
        "    test_corr += ((prediction==original).sum()).item()\n",
        "\n",
        "  y_test_cnn=np.array(y_test_cnn)\n",
        "  y_pred_cnn=np.array(y_pred_cnn)\n",
        "  print(\"Testing Dataset Accuarcy \\n accuracy : {} \\n \".format(test_corr*100/test_total))"
      ],
      "metadata": {
        "id": "vUBzqVx2fkij",
        "colab": {
          "base_uri": "https://localhost:8080/"
        },
        "outputId": "65b5130b-c00c-41d0-c829-878e87f0b2da"
      },
      "execution_count": null,
      "outputs": [
        {
          "output_type": "stream",
          "name": "stdout",
          "text": [
            "Testing Dataset Accuarcy \n",
            " accuracy : 99.7338065661047 \n",
            " \n"
          ]
        }
      ]
    },
    {
      "cell_type": "code",
      "source": [
        "#Calculating confusion matrix\n",
        "conf_cnn=confusion_matrix(y_test_cnn, y_pred_cnn)\n",
        "\n",
        "Class_name=[]\n",
        "Class_names1=np.degrees(Wedge_Angle)\n",
        "for i in Class_names1:\n",
        "  Class_name.append(str(round(i)))\n",
        "\n",
        "df_cnn = pd.DataFrame(conf_cnn, Class_name, Class_name)\n",
        "plt.figure(figsize = (9,6))\n",
        "sns.heatmap(df_cnn, annot=True, fmt=\"d\", cmap='OrRd')\n",
        "plt.title('Confusion Matrix for CNN')\n",
        "plt.xlabel(\"predictions label \")\n",
        "plt.ylabel(\" Original label \")\n",
        "plt.show()"
      ],
      "metadata": {
        "colab": {
          "base_uri": "https://localhost:8080/",
          "height": 404
        },
        "id": "f6z8Y2EpKclb",
        "outputId": "d1d8fd32-c79e-4915-a669-012b10d39587"
      },
      "execution_count": null,
      "outputs": [
        {
          "output_type": "display_data",
          "data": {
            "text/plain": [
              "<Figure size 648x432 with 2 Axes>"
            ],
            "image/png": "[encoded data removed]"
          },
          "metadata": {
            "needs_background": "light"
          }
        }
      ]
    },
    {
      "cell_type": "markdown",
      "source": [
        "#KNN on dataset"
      ],
      "metadata": {
        "id": "pFkTeJ8FkfD7"
      }
    },
    {
      "cell_type": "code",
      "source": [
        "# Import necessary modules\n",
        "from sklearn.metrics import confusion_matrix\n",
        "from sklearn.neighbors import KNeighborsClassifier\n",
        "from sklearn.model_selection import train_test_split"
      ],
      "metadata": {
        "id": "b2Xom3IPgcLt"
      },
      "execution_count": null,
      "outputs": []
    },
    {
      "cell_type": "code",
      "source": [
        "#flattening of image on train dataset.\n",
        "X_train=np.zeros((train_dataset['image'].shape[0],3600))\n",
        "for i in range(train_dataset['image'].shape[0]):\n",
        "  X_train[i]=train_dataset['image'][i][0].flatten()\n",
        "\n",
        "Y_train1=torch.from_numpy(train_dataset['label'])\n",
        "Y_train=torch.max(Y_train1.data,1)[1].detach().numpy()"
      ],
      "metadata": {
        "id": "qlCzZZIYae8s"
      },
      "execution_count": null,
      "outputs": []
    },
    {
      "cell_type": "code",
      "source": [
        "#flattening of image on test dataset.\n",
        "X_test=np.zeros((test_dataset['image'].shape[0],3600))\n",
        "for i in range(test_dataset['image'].shape[0]):\n",
        "  X_test[i]=test_dataset['image'][i][0].flatten()\n",
        "\n",
        "Y_test1=torch.from_numpy(test_dataset['label'])\n",
        "Y_test=torch.max(Y_test1.data,1)[1].detach().numpy()"
      ],
      "metadata": {
        "id": "VTHGV0wYgDyl"
      },
      "execution_count": null,
      "outputs": []
    },
    {
      "cell_type": "code",
      "source": [
        "#checking accuracy for different k_values.\n",
        "K_values=[1,2,3,4,5,6,7,8,9,10]\n",
        "Accuracy=[]\n",
        "for k in K_values:\n",
        "  knn = KNeighborsClassifier(n_neighbors=k)\n",
        "  knn.fit(X_train, Y_train)\n",
        "  # Calculate the accuracy of the model\n",
        "  Accuracy.append(knn.score(X_test, Y_test)*100)\n",
        "\n",
        "plt.plot(K_values,Accuracy,marker=\"o\",color='maroon')\n",
        "plt.title('Accuracy for different k values')\n",
        "plt.xlabel('K nearest neighbour value')\n",
        "plt.ylim(90,100)\n",
        "plt.ylabel('Accuracy')\n",
        "plt.grid()\n",
        "plt.show()\n"
      ],
      "metadata": {
        "colab": {
          "base_uri": "https://localhost:8080/",
          "height": 312
        },
        "id": "FwjLqbuEYEij",
        "outputId": "4dd2973d-87ff-4256-f3c2-625aed931233"
      },
      "execution_count": null,
      "outputs": [
        {
          "output_type": "stream",
          "name": "stderr",
          "text": [
            "No handles with labels found to put in legend.\n"
          ]
        },
        {
          "output_type": "display_data",
          "data": {
            "text/plain": [
              "<Figure size 432x288 with 1 Axes>"
            ],
            "image/png": "[encoded data removed]"
          },
          "metadata": {
            "needs_background": "light"
          }
        }
      ]
    },
    {
      "cell_type": "code",
      "source": [
        "#Selecting KNN as 1.\n",
        "knn = KNeighborsClassifier(n_neighbors=1)"
      ],
      "metadata": {
        "id": "4OcgZrgUgdPM"
      },
      "execution_count": null,
      "outputs": []
    },
    {
      "cell_type": "code",
      "source": [
        "#Fitting the dataset.\n",
        "knn.fit(X_train, Y_train)"
      ],
      "metadata": {
        "colab": {
          "base_uri": "https://localhost:8080/"
        },
        "id": "p6UnJqySgfBs",
        "outputId": "713a58d8-1770-4753-8692-39cdf5439e85"
      },
      "execution_count": null,
      "outputs": [
        {
          "output_type": "execute_result",
          "data": {
            "text/plain": [
              "KNeighborsClassifier(n_neighbors=1)"
            ]
          },
          "metadata": {},
          "execution_count": 148
        }
      ]
    },
    {
      "cell_type": "code",
      "source": [
        "# Calculate the accuracy of the model\n",
        "print(knn.score(X_test, Y_test)*100)"
      ],
      "metadata": {
        "colab": {
          "base_uri": "https://localhost:8080/"
        },
        "id": "r9ba5DNcgfJT",
        "outputId": "a8bfeaf4-5466-49ab-9733-c78f63cf6352"
      },
      "execution_count": null,
      "outputs": [
        {
          "output_type": "stream",
          "name": "stdout",
          "text": [
            "98.89086069210293\n"
          ]
        }
      ]
    },
    {
      "cell_type": "code",
      "source": [
        "#Calculating confusion matrix\n",
        "y_pred = knn.predict(X_test)\n",
        "conf_knn=confusion_matrix(Y_test, y_pred)\n",
        "\n",
        "Class_name=[]\n",
        "Class_names1=np.degrees(Wedge_Angle)\n",
        "for i in Class_names1:\n",
        "  Class_name.append(str(round(i)))\n",
        "\n",
        "df_knn = pd.DataFrame(conf_knn, Class_name, Class_name)\n",
        "plt.figure(figsize = (9,6))\n",
        "sns.heatmap(df_knn, annot=True, fmt=\"d\", cmap='BuGn')\n",
        "plt.title('Confusion Matrix for KNN')\n",
        "plt.xlabel(\"predictions label \")\n",
        "plt.ylabel(\" Original label \")\n",
        "plt.show()\n"
      ],
      "metadata": {
        "colab": {
          "base_uri": "https://localhost:8080/",
          "height": 404
        },
        "id": "ZosWshVdguEC",
        "outputId": "331cb3da-7bd1-4ca2-f1f7-c5ad3c4685d4"
      },
      "execution_count": null,
      "outputs": [
        {
          "output_type": "display_data",
          "data": {
            "text/plain": [
              "<Figure size 648x432 with 2 Axes>"
            ],
            "image/png": "[encoded data removed]"
          },
          "metadata": {
            "needs_background": "light"
          }
        }
      ]
    },
    {
      "cell_type": "code",
      "source": [
        ""
      ],
      "metadata": {
        "id": "CKezidNBjBpQ"
      },
      "execution_count": null,
      "outputs": []
    }
  ],
  "metadata": {
    "colab": {
      "collapsed_sections": [],
      "name": "Both.ipynb",
      "provenance": []
    },
    "kernelspec": {
      "display_name": "Python 3",
      "name": "python3"
    },
    "language_info": {
      "name": "python"
    },
    "accelerator": "GPU"
  },
  "nbformat": 4,
  "nbformat_minor": 0
}